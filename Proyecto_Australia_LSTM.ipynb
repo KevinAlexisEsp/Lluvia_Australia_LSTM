{
 "cells": [
  {
   "cell_type": "code",
   "execution_count": 1,
   "id": "3eee57d2-0b31-43a5-a140-96b26127e03a",
   "metadata": {
    "tags": []
   },
   "outputs": [
    {
     "name": "stdout",
     "output_type": "stream",
     "text": [
      "WARNING:tensorflow:From K:\\Anaconda\\Lib\\site-packages\\keras\\src\\losses.py:2976: The name tf.losses.sparse_softmax_cross_entropy is deprecated. Please use tf.compat.v1.losses.sparse_softmax_cross_entropy instead.\n",
      "\n"
     ]
    }
   ],
   "source": [
    "import pickle\n",
    "import numpy as np\n",
    "import pandas as pd\n",
    "import seaborn as sns\n",
    "import plotly.express as px\n",
    "from collections import Counter\n",
    "import matplotlib.pyplot as plt\n",
    "from sklearn.cluster import KMeans\n",
    "from sklearn.impute import KNNImputer\n",
    "from keras.utils import to_categorical\n",
    "from tensorflow.keras.metrics import AUC\n",
    "from sklearn.preprocessing import LabelEncoder\n",
    "from tensorflow.keras.models import Sequential\n",
    "from sklearn.preprocessing import StandardScaler\n",
    "from sklearn.ensemble import RandomForestClassifier\n",
    "from sklearn.model_selection import train_test_split\n",
    "from tensorflow.keras.layers import Input, Dense, SimpleRNN, Dropout, LSTM\n",
    "from sklearn.metrics import classification_report, accuracy_score, roc_auc_score"
   ]
  },
  {
   "cell_type": "markdown",
   "id": "d0e5ecb3-5988-4a62-a830-58e56582f4bd",
   "metadata": {},
   "source": [
    "CARGAR EL DF"
   ]
  },
  {
   "cell_type": "code",
   "execution_count": 2,
   "id": "5fc402cd-a9e8-4cfa-af18-2a3507bec1b5",
   "metadata": {
    "tags": []
   },
   "outputs": [],
   "source": [
    "df = pd.read_csv(\"weatherAUS.csv\")"
   ]
  },
  {
   "cell_type": "markdown",
   "id": "a7bdd644-e146-43a3-a2a4-d0cb4b006f93",
   "metadata": {},
   "source": [
    "CAMBIAMOS LAS COLUMNAS RAINTODAY Y RAIN TOMORROW, QUE ESTAN CON \"YES\" Y \"NO\" A 1 Y 0 "
   ]
  },
  {
   "cell_type": "code",
   "execution_count": 3,
   "id": "438f3aba-2223-47ec-accf-d583706326eb",
   "metadata": {
    "tags": []
   },
   "outputs": [],
   "source": [
    "df['RainTomorrow'] = df['RainTomorrow'].map({'Yes': int(1), 'No': int(0)})\n",
    "df['RainToday'] = df['RainToday'].map({'Yes': int(1), 'No': int(0)})"
   ]
  },
  {
   "cell_type": "markdown",
   "id": "2cd72c50-c460-48e4-9e53-a4716526a718",
   "metadata": {},
   "source": [
    "BORRAMOS LOS NULOS EN 0, Y LOS DEJAMOS PARA EN 1 PARA NO PERDER ESTOS DATOS"
   ]
  },
  {
   "cell_type": "code",
   "execution_count": 4,
   "id": "441bf432-c002-4a8d-a9c4-a8169c885469",
   "metadata": {
    "tags": []
   },
   "outputs": [],
   "source": [
    "df1 = df[df[\"RainTomorrow\"]==1]\n",
    "df2 = df[df[\"RainTomorrow\"]==0].dropna()"
   ]
  },
  {
   "cell_type": "markdown",
   "id": "eee04677-f75a-497b-80e3-401541d66f85",
   "metadata": {},
   "source": [
    "UNIMOS LOS DF CON LOS RESULTADOS ANTERIORES"
   ]
  },
  {
   "cell_type": "code",
   "execution_count": 5,
   "id": "2221a8a2-e6b1-4d88-a0b2-11f63ed57163",
   "metadata": {
    "tags": []
   },
   "outputs": [],
   "source": [
    "df = pd.concat([df1,df2],ignore_index=True)"
   ]
  },
  {
   "cell_type": "markdown",
   "id": "eb764825-4535-48a5-ab6d-42eb1496ccf2",
   "metadata": {},
   "source": [
    "PONEMOS LA COLUMNA DATE COMO DATETIME"
   ]
  },
  {
   "cell_type": "code",
   "execution_count": 6,
   "id": "0b12cb39-2ace-4ee9-b5dc-74e49070135a",
   "metadata": {
    "tags": []
   },
   "outputs": [],
   "source": [
    "df['Date'] = pd.to_datetime(df['Date'])"
   ]
  },
  {
   "cell_type": "markdown",
   "id": "a5b0f221-fe57-497b-b70d-f5e0614391d8",
   "metadata": {},
   "source": [
    "ELIMINAMOS COLUMNAS QUE NO APORTABAN INFORMACIÓN AL MODELO"
   ]
  },
  {
   "cell_type": "code",
   "execution_count": 7,
   "id": "9eceb6f9-ba15-4136-bb2f-73747949a375",
   "metadata": {
    "tags": []
   },
   "outputs": [],
   "source": [
    "df.drop([\"WindGustDir\",\"WindDir9am\",\"WindDir3pm\"], axis = 1, inplace=True)"
   ]
  },
  {
   "cell_type": "markdown",
   "id": "a29dca80-5e75-4e73-a9e6-146c5a0b4e15",
   "metadata": {
    "tags": []
   },
   "source": [
    "CREAMOS UNA FUNCIÓN QUE TRANSFORMA LAS COLUMNAS A NUMERICAS PARA PODER INTRODUCILAS EN KNNIMPUTER"
   ]
  },
  {
   "cell_type": "code",
   "execution_count": 8,
   "id": "a56cb46f-2979-4f5d-a72f-2be300ae9861",
   "metadata": {
    "tags": []
   },
   "outputs": [],
   "source": [
    "def convertir_a_numerico(df, columnas):\n",
    "    for columna in columnas:\n",
    "        try:\n",
    "            df[columna] = pd.to_numeric(df[columna], errors='coerce')\n",
    "        except:\n",
    "            pass\n",
    "    return df\n",
    "\n",
    "columnas_a_convertir = df.columns[2:]\n",
    "\n",
    "df = convertir_a_numerico(df, columnas_a_convertir)"
   ]
  },
  {
   "cell_type": "markdown",
   "id": "32f6ee47-5f89-4367-b33c-f723069a7991",
   "metadata": {},
   "source": [
    "GUARDAMOS LOCATION Y DATE EN UN DATAFRAME, YA QUE ESTAS SON CATEGORICAS Y NO SON CORRECTAS PARA EL KNNIMPUTER"
   ]
  },
  {
   "cell_type": "code",
   "execution_count": 9,
   "id": "6e229a4b-9a25-4756-94df-faf198dbdabb",
   "metadata": {
    "tags": []
   },
   "outputs": [],
   "source": [
    "df_Location = pd.DataFrame({\"Location\":df[\"Location\"]})\n",
    "df_Date = pd.DataFrame({\"Date\":df[\"Date\"]})"
   ]
  },
  {
   "cell_type": "markdown",
   "id": "80c061fb-3495-4d85-ac96-f2c35e548077",
   "metadata": {},
   "source": [
    "CREAMOS UN DF CON VALORES FLOAT O INT, Y APLICAMOS KNNIMPUTER"
   ]
  },
  {
   "cell_type": "code",
   "execution_count": 10,
   "id": "1449e243-7eb0-46a5-87bd-56404b74784c",
   "metadata": {
    "tags": []
   },
   "outputs": [],
   "source": [
    "df_num = df.select_dtypes(include=['float64', 'int64'])\n",
    "columnas = df_num.columns\n",
    "imputer = KNNImputer(n_neighbors = 3) \n",
    "df_imp = imputer.fit_transform(df_num) \n",
    "\n",
    "df = pd.DataFrame(data = df_imp, columns = columnas)"
   ]
  },
  {
   "cell_type": "markdown",
   "id": "607a2765-f8c6-467e-b5e2-d0d9f6a27c43",
   "metadata": {
    "tags": []
   },
   "source": [
    "AL DF CONSEGUIDO DE KNNIMPUTER SE CONCATENAMOS LAS COLUMNAS DE DATE Y LOCATION"
   ]
  },
  {
   "cell_type": "code",
   "execution_count": 11,
   "id": "ff996b2b-6e21-43ed-bf84-b4c4be5866d6",
   "metadata": {
    "tags": []
   },
   "outputs": [],
   "source": [
    "df = pd.concat([df,df_Location,df_Date], axis = 1)"
   ]
  },
  {
   "cell_type": "markdown",
   "id": "50319bd4-b451-4d93-9340-d56438193ddb",
   "metadata": {},
   "source": [
    "FILTRAMOS LAS CIUDADES QUE TENGAN MENOS DE 6 AÑOS DE DATOS Y LAS ELIMINAMOS"
   ]
  },
  {
   "cell_type": "code",
   "execution_count": 12,
   "id": "a3ebdaff-5687-49be-b826-fe58864a5007",
   "metadata": {
    "tags": []
   },
   "outputs": [],
   "source": [
    "for ciudad in df.Location.unique():\n",
    "    if (abs(int((df[df[\"Location\"] == ciudad][\"Date\"].min() - df[df[\"Location\"] == ciudad][\"Date\"].max()).days))/365) < 6:\n",
    "        df = df.drop(df[df[\"Location\"] == ciudad].index)"
   ]
  },
  {
   "cell_type": "markdown",
   "id": "bd5c13b7-f8c4-435e-97f2-341f1adb2813",
   "metadata": {},
   "source": [
    "NOS QUEDAMOS CON LAS FECHAS MINIMAS Y MAXIMAS COMPARTIDAS POR TODAS LAS CIUDADES"
   ]
  },
  {
   "cell_type": "code",
   "execution_count": 13,
   "id": "9cd89411-3d21-421d-8fb9-ea2e1364e42f",
   "metadata": {
    "tags": []
   },
   "outputs": [],
   "source": [
    "primera_fecha = max([df[df['Location'] == ciudad].Date.min() for ciudad in df['Location'].unique()])\n",
    "final_fecha = min([df[df['Location'] == ciudad].Date.max() for ciudad in df['Location'].unique()])\n",
    "df = df[df.Date >= primera_fecha]\n",
    "df = df[df.Date <= final_fecha]"
   ]
  },
  {
   "cell_type": "markdown",
   "id": "dbb8660d-dc35-478e-ac3d-de919852d675",
   "metadata": {},
   "source": [
    "PONEMOS LA COLUMNA DATE COMO INDICE"
   ]
  },
  {
   "cell_type": "code",
   "execution_count": 14,
   "id": "cf8b6fbe-d77e-4de4-954e-6dd82803ee73",
   "metadata": {
    "tags": []
   },
   "outputs": [],
   "source": [
    "df.set_index('Date', inplace=True)"
   ]
  },
  {
   "cell_type": "markdown",
   "id": "572eae91-e8b8-49c8-baa1-c114b8573849",
   "metadata": {
    "tags": []
   },
   "source": [
    "CREAMOS LAS COLUMNAS AÑO Y MES PARA ORDENAR POR ESAS COLUMNAS"
   ]
  },
  {
   "cell_type": "code",
   "execution_count": 15,
   "id": "0ba643c9-f091-414d-8fdd-101067b7e84b",
   "metadata": {
    "tags": []
   },
   "outputs": [],
   "source": [
    "df[\"Año\"] = df.index.year\n",
    "df[\"Mes\"] = df.index.month\n",
    "\n",
    "df_sorted = df.sort_values(by=[\"Año\", \"Mes\"])\n",
    "\n",
    "df_sorted.drop(['Año', 'Mes'], axis=1, inplace=True)"
   ]
  },
  {
   "cell_type": "markdown",
   "id": "1242a310-20bf-4976-a490-e33e2935a952",
   "metadata": {},
   "source": [
    "PONEMOS LA COLUMNA RAINTOMORROW AL FINAL DEL DF, YA QUE SE DIVIDEN LOS DATOS POR INDICE DE LAS COLUMNAS Y ESTA ES LA QUE VAMOS A PREDECIR"
   ]
  },
  {
   "cell_type": "code",
   "execution_count": 16,
   "id": "9f6efe75-7235-445b-a8b2-27ca7d64e1f5",
   "metadata": {
    "tags": []
   },
   "outputs": [],
   "source": [
    "columnas_sin_raintomorrow = [col for col in df_sorted.columns if col != 'RainTomorrow']\n",
    "\n",
    "nuevo_orden_columnas = columnas_sin_raintomorrow + ['RainTomorrow']\n",
    "df_sorted = df_sorted[nuevo_orden_columnas]"
   ]
  },
  {
   "cell_type": "code",
   "execution_count": 21,
   "id": "fd368764-c08f-4b91-8ce2-50752ea9118b",
   "metadata": {
    "tags": []
   },
   "outputs": [
    {
     "name": "stdout",
     "output_type": "stream",
     "text": [
      "Epoch 1/10\n",
      "857/857 [==============================] - 25s 27ms/step - loss: 0.6609 - accuracy: 0.8203 - auc_3: 0.8732 - val_loss: 0.1927 - val_accuracy: 0.9361 - val_auc_3: 0.9786\n",
      "Epoch 2/10\n",
      "857/857 [==============================] - 23s 27ms/step - loss: 0.1541 - accuracy: 0.9504 - auc_3: 0.9821 - val_loss: 0.3466 - val_accuracy: 0.8775 - val_auc_3: 0.9805\n",
      "Epoch 3/10\n",
      "857/857 [==============================] - 23s 26ms/step - loss: 0.1588 - accuracy: 0.9473 - auc_3: 0.9814 - val_loss: 0.1834 - val_accuracy: 0.9387 - val_auc_3: 0.9877\n",
      "Epoch 4/10\n",
      "857/857 [==============================] - 22s 26ms/step - loss: 0.1004 - accuracy: 0.9706 - auc_3: 0.9897 - val_loss: 0.0981 - val_accuracy: 0.9729 - val_auc_3: 0.9911\n",
      "Epoch 5/10\n",
      "857/857 [==============================] - 22s 26ms/step - loss: 0.1013 - accuracy: 0.9691 - auc_3: 0.9900 - val_loss: 0.1027 - val_accuracy: 0.9714 - val_auc_3: 0.9901\n",
      "Epoch 6/10\n",
      "857/857 [==============================] - 23s 26ms/step - loss: 0.0679 - accuracy: 0.9814 - auc_3: 0.9941 - val_loss: 0.0739 - val_accuracy: 0.9801 - val_auc_3: 0.9954\n",
      "Epoch 7/10\n",
      "857/857 [==============================] - 22s 26ms/step - loss: 0.0948 - accuracy: 0.9732 - auc_3: 0.9900 - val_loss: 0.1841 - val_accuracy: 0.9350 - val_auc_3: 0.9916\n",
      "Epoch 8/10\n",
      "857/857 [==============================] - 22s 26ms/step - loss: 0.0672 - accuracy: 0.9816 - auc_3: 0.9943 - val_loss: 0.1056 - val_accuracy: 0.9635 - val_auc_3: 0.9953\n",
      "Epoch 9/10\n",
      "857/857 [==============================] - 22s 26ms/step - loss: 0.0550 - accuracy: 0.9850 - auc_3: 0.9961 - val_loss: 0.0824 - val_accuracy: 0.9749 - val_auc_3: 0.9959\n",
      "Epoch 10/10\n",
      "857/857 [==============================] - 22s 26ms/step - loss: 0.0423 - accuracy: 0.9894 - auc_3: 0.9972 - val_loss: 0.0546 - val_accuracy: 0.9851 - val_auc_3: 0.9968\n",
      "428/428 [==============================] - 2s 5ms/step\n",
      "Accuracy: 0.985097523559062\n",
      "AUC-ROC Score: 0.9847881880218462\n"
     ]
    }
   ],
   "source": [
    "#creamos el df_predicciones sobre el que vamos a trabajar\n",
    "df_prediccion = df_sorted.select_dtypes(include=['float64', 'int64'])\n",
    "\n",
    "#creamos el np.array de train con el 80% de los datos\n",
    "train = np.array(df_prediccion[0:int(len(df_prediccion)*0.8)])\n",
    "\n",
    "#trabajamos con un lag de 10 dias por fecha\n",
    "T = 10 # Segmentos\n",
    "X_train = list()\n",
    "y_train = list()\n",
    "\n",
    "for t in range(len(train) - T):\n",
    "\n",
    "    \n",
    "    # Toma valores de X_test de t en t con stride de 1\n",
    "    x_train = train[t : t + T][:-1]\n",
    "    X_train.append(x_train)\n",
    "\n",
    "    # Toma los valores de t en t\n",
    "    y_train_ = train[t + T][-1]\n",
    "    y_train.append(int(y_train_))\n",
    "\n",
    "# Transformamos a np.array y ajustamos las dimensiones\n",
    "# Para entrar en el modelo debe de tener 3 dimensiones\n",
    "X_train = np.array(X_train)\n",
    "y_train = np.array(y_train)\n",
    "\n",
    "\n",
    "\n",
    "#creamos el np.array de test con el 20% de los datos\n",
    "test = np.array(df_prediccion[int(len(df_prediccion)*0.8):-1])\n",
    "X_test = list()\n",
    "y_test = list()\n",
    "\n",
    "#trabajamos con un lag de 10 dias por fecha\n",
    "for t in range(len(test) - T):\n",
    "\n",
    "    # Toma valores de X_test de t en t con stride de 1\n",
    "    x_test = test[t : t + T][:-1]\n",
    "    X_test.append(x_test)\n",
    "\n",
    "    # Toma los valores de t en t\n",
    "    y_test_ = test[t + T][-1]\n",
    "    y_test.append(int(y_test_))\n",
    "\n",
    "# Transformamos a np.array y ajustamos las dimensiones\n",
    "# Para entrar en el modelo debe de tener 3 dimensiones\n",
    "X_test = np.array(X_test)\n",
    "y_test = np.array(y_test)\n",
    "\n",
    "\n",
    "\n",
    "#creamos un modelo modelo LSTM para predecir la lluvia, con diferentes capas densas y que medirá el accurazy y roc-auc\n",
    "model = Sequential()\n",
    "\n",
    "model.add(Input(shape=(X_train.shape[1], X_train.shape[2])))\n",
    "model.add(LSTM(units=512, activation=\"relu\"))\n",
    "model.add(Dense(units=256, activation=\"relu\"))\n",
    "model.add(Dense(units=128, activation=\"relu\"))\n",
    "model.add(Dense(units=64, activation=\"relu\"))\n",
    "model.add(Dense(units=32, activation=\"relu\"))\n",
    "model.add(Dense(units=1, activation=\"sigmoid\")) \n",
    "\n",
    "model.compile(optimizer=\"adam\", loss=\"binary_crossentropy\", metrics=[\"accuracy\", AUC()])\n",
    "\n",
    "history = model.fit(X_train, y_train, epochs=10, batch_size=64, validation_data=(X_test, y_test), )\n",
    "\n",
    "\n",
    "\n",
    "\n",
    "y_pred_decimal = model.predict(X_test)\n",
    "\n",
    "\n",
    "threshold = 0.5\n",
    "y_pred = (y_pred_decimal > threshold).astype(int)\n",
    "\n",
    "\n",
    "accuracy = accuracy_score(y_test, y_pred)\n",
    "print(f'Accuracy: {accuracy}')\n",
    "\n",
    "roc_auc = roc_auc_score(y_test, y_pred)\n",
    "print(f'AUC-ROC Score: {roc_auc}')"
   ]
  },
  {
   "cell_type": "markdown",
   "id": "5050e0fd-feb6-48b9-8f6a-fe1ca2beecc1",
   "metadata": {},
   "source": [
    "CREAMOS LAS LAS GRAFICAS QUE RELACIONAN ACCURACY CON VAL_ACCURACY Y TAMBIEN AUC CON VAL_AUC"
   ]
  },
  {
   "cell_type": "code",
   "execution_count": 23,
   "id": "015eef83-a263-4f58-b6f5-dbfd47bdf912",
   "metadata": {
    "tags": []
   },
   "outputs": [
    {
     "data": {
      "image/png": "[encoded data removed]",
      "text/plain": [
       "<Figure size 1000x600 with 1 Axes>"
      ]
     },
     "metadata": {},
     "output_type": "display_data"
    }
   ],
   "source": [
    "plt.figure(figsize=(10, 6))\n",
    "plt.plot(history.history[\"accuracy\"], label=\"Training Accuracy\")\n",
    "plt.plot(history.history[\"val_accuracy\"], label=\"Validation Accuracy\")\n",
    "plt.title('Training and Validation Accuracy')\n",
    "plt.xlabel('Epoch')\n",
    "plt.ylabel('Accuracy')\n",
    "plt.legend()\n",
    "plt.show()\n",
    "\n",
    "\n"
   ]
  },
  {
   "cell_type": "markdown",
   "id": "abbdc51e-7e99-48ea-9953-9f004abb51ea",
   "metadata": {},
   "source": [
    "GUARDAMOS LOS RESULTADOS EN UN MODELO PICKLE"
   ]
  },
  {
   "cell_type": "code",
   "execution_count": 20,
   "id": "06481786-b8c8-4bc3-909e-f7fe7200d370",
   "metadata": {
    "tags": []
   },
   "outputs": [],
   "source": [
    "with open('my_model.pkl', 'wb') as f:\n",
    "    pickle.dump(model, f)"
   ]
  },
  {
   "cell_type": "markdown",
   "id": "71079059-86db-446d-bff1-644e199667f4",
   "metadata": {},
   "source": [
    "SE GUARDA EL DF_PREDICCION PARA GRAFICAR SOBRE ESTE"
   ]
  },
  {
   "cell_type": "code",
   "execution_count": 22,
   "id": "76461116-d0e3-4bae-b39f-a31ae9117b4d",
   "metadata": {},
   "outputs": [],
   "source": [
    "df_prediccion.to_csv('df_prediccion.csv', index=False)"
   ]
  },
  {
   "cell_type": "code",
   "execution_count": null,
   "id": "fe92c8ed-b467-4f67-a9eb-fa4f18adb1c0",
   "metadata": {},
   "outputs": [],
   "source": []
  },
  {
   "cell_type": "markdown",
   "id": "c1f5d2be-7c29-40a3-8089-9a3098a8d69e",
   "metadata": {},
   "source": [
    "DATOS POR CIUDAD"
   ]
  },
  {
   "cell_type": "code",
   "execution_count": 46,
   "id": "c0dbf4c0-640c-4c77-9618-784ab4d68f18",
   "metadata": {
    "collapsed": true,
    "jupyter": {
     "outputs_hidden": true
    },
    "tags": []
   },
   "outputs": [
    {
     "name": "stdout",
     "output_type": "stream",
     "text": [
      "Epoch 1/10\n",
      "21/21 [==============================] - 2s 44ms/step - loss: 7.0580 - accuracy: 0.5613 - auc_5: 0.5269 - val_loss: 3.8024 - val_accuracy: 0.1056 - val_auc_5: 0.5243\n",
      "Epoch 2/10\n",
      "21/21 [==============================] - 1s 30ms/step - loss: 4.4877 - accuracy: 0.5477 - auc_5: 0.4878 - val_loss: 0.6185 - val_accuracy: 0.8944 - val_auc_5: 0.5474\n",
      "Epoch 3/10\n",
      "21/21 [==============================] - 1s 29ms/step - loss: 2.3858 - accuracy: 0.5113 - auc_5: 0.4892 - val_loss: 6.4441 - val_accuracy: 0.1056 - val_auc_5: 0.5000\n",
      "Epoch 4/10\n",
      "21/21 [==============================] - 1s 30ms/step - loss: 1.0510 - accuracy: 0.5590 - auc_5: 0.5180 - val_loss: 0.5939 - val_accuracy: 0.7516 - val_auc_5: 0.5767\n",
      "Epoch 5/10\n",
      "21/21 [==============================] - 1s 29ms/step - loss: 0.7365 - accuracy: 0.5855 - auc_5: 0.5425 - val_loss: 1.8681 - val_accuracy: 0.1056 - val_auc_5: 0.5899\n",
      "Epoch 6/10\n",
      "21/21 [==============================] - 1s 31ms/step - loss: 0.6952 - accuracy: 0.6210 - auc_5: 0.5929 - val_loss: 1.7668 - val_accuracy: 0.1056 - val_auc_5: 0.5790\n",
      "Epoch 7/10\n",
      "21/21 [==============================] - 1s 30ms/step - loss: 0.6981 - accuracy: 0.6286 - auc_5: 0.6195 - val_loss: 0.3491 - val_accuracy: 0.8944 - val_auc_5: 0.5647\n",
      "Epoch 8/10\n",
      "21/21 [==============================] - 1s 29ms/step - loss: 0.8087 - accuracy: 0.5635 - auc_5: 0.5659 - val_loss: 0.3852 - val_accuracy: 0.8882 - val_auc_5: 0.5723\n",
      "Epoch 9/10\n",
      "21/21 [==============================] - 1s 27ms/step - loss: 0.8679 - accuracy: 0.5514 - auc_5: 0.5544 - val_loss: 0.3450 - val_accuracy: 0.8944 - val_auc_5: 0.5816\n",
      "Epoch 10/10\n",
      "21/21 [==============================] - 1s 28ms/step - loss: 0.6869 - accuracy: 0.6278 - auc_5: 0.6050 - val_loss: 0.8615 - val_accuracy: 0.2516 - val_auc_5: 0.5759\n",
      "11/11 [==============================] - 0s 5ms/step\n",
      "Accuracy: 0.2515527950310559\n",
      "AUC-ROC Score: 0.5037785947712418\n",
      "Epoch 1/10\n",
      "24/24 [==============================] - 3s 40ms/step - loss: 8.2458 - accuracy: 0.7112 - auc_6: 0.5216 - val_loss: 11.9001 - val_accuracy: 0.6782 - val_auc_6: 0.5000\n",
      "Epoch 2/10\n",
      "24/24 [==============================] - 1s 27ms/step - loss: 2.5011 - accuracy: 0.7223 - auc_6: 0.5159 - val_loss: 2.5362 - val_accuracy: 0.6782 - val_auc_6: 0.5000\n",
      "Epoch 3/10\n",
      "24/24 [==============================] - 1s 27ms/step - loss: 0.6322 - accuracy: 0.8123 - auc_6: 0.4999 - val_loss: 0.7853 - val_accuracy: 0.6782 - val_auc_6: 0.6305\n",
      "Epoch 4/10\n",
      "24/24 [==============================] - 1s 28ms/step - loss: 0.4356 - accuracy: 0.8422 - auc_6: 0.5648 - val_loss: 0.6929 - val_accuracy: 0.5133 - val_auc_6: 0.5976\n",
      "Epoch 5/10\n",
      "24/24 [==============================] - 1s 27ms/step - loss: 0.4557 - accuracy: 0.8279 - auc_6: 0.5603 - val_loss: 0.6192 - val_accuracy: 0.6782 - val_auc_6: 0.5811\n",
      "Epoch 6/10\n",
      "24/24 [==============================] - 1s 27ms/step - loss: 0.5062 - accuracy: 0.8181 - auc_6: 0.5447 - val_loss: 1.0016 - val_accuracy: 0.6782 - val_auc_6: 0.5537\n",
      "Epoch 7/10\n",
      "24/24 [==============================] - 1s 28ms/step - loss: 0.4456 - accuracy: 0.8422 - auc_6: 0.5612 - val_loss: 0.6976 - val_accuracy: 0.6782 - val_auc_6: 0.5576\n",
      "Epoch 8/10\n",
      "24/24 [==============================] - 1s 30ms/step - loss: 0.7178 - accuracy: 0.7784 - auc_6: 0.5126 - val_loss: 0.9401 - val_accuracy: 0.6782 - val_auc_6: 0.5701\n",
      "Epoch 9/10\n",
      "24/24 [==============================] - 1s 28ms/step - loss: 0.5798 - accuracy: 0.7497 - auc_6: 0.5480 - val_loss: 1.4033 - val_accuracy: 0.6782 - val_auc_6: 0.5460\n",
      "Epoch 10/10\n",
      "24/24 [==============================] - 1s 27ms/step - loss: 0.7186 - accuracy: 0.7823 - auc_6: 0.5016 - val_loss: 0.6188 - val_accuracy: 0.6782 - val_auc_6: 0.5952\n",
      "12/12 [==============================] - 0s 5ms/step\n",
      "Accuracy: 0.6781914893617021\n",
      "AUC-ROC Score: 0.5\n",
      "Epoch 1/10\n",
      "32/32 [==============================] - 3s 41ms/step - loss: 9.6138 - accuracy: 0.5685 - auc_7: 0.5101 - val_loss: 16.4962 - val_accuracy: 0.5399 - val_auc_7: 0.5000\n",
      "Epoch 2/10\n",
      "32/32 [==============================] - 1s 34ms/step - loss: 6.6859 - accuracy: 0.5816 - auc_7: 0.5009 - val_loss: 4.7215 - val_accuracy: 0.5399 - val_auc_7: 0.5000\n",
      "Epoch 3/10\n",
      "32/32 [==============================] - 1s 31ms/step - loss: 1.0623 - accuracy: 0.5821 - auc_7: 0.4970 - val_loss: 0.6923 - val_accuracy: 0.5399 - val_auc_7: 0.6402\n",
      "Epoch 4/10\n",
      "32/32 [==============================] - 1s 31ms/step - loss: 0.6821 - accuracy: 0.6344 - auc_7: 0.5192 - val_loss: 0.6995 - val_accuracy: 0.4642 - val_auc_7: 0.6152\n",
      "Epoch 5/10\n",
      "32/32 [==============================] - 1s 35ms/step - loss: 0.7530 - accuracy: 0.5861 - auc_7: 0.5136 - val_loss: 1.9879 - val_accuracy: 0.5399 - val_auc_7: 0.5325\n",
      "Epoch 6/10\n",
      "32/32 [==============================] - 1s 33ms/step - loss: 0.8303 - accuracy: 0.6027 - auc_7: 0.4926 - val_loss: 0.7250 - val_accuracy: 0.4601 - val_auc_7: 0.6483\n",
      "Epoch 7/10\n",
      "32/32 [==============================] - 1s 28ms/step - loss: 0.7007 - accuracy: 0.6047 - auc_7: 0.5098 - val_loss: 0.7612 - val_accuracy: 0.5399 - val_auc_7: 0.6462\n",
      "Epoch 8/10\n",
      "32/32 [==============================] - 1s 28ms/step - loss: 0.6327 - accuracy: 0.6798 - auc_7: 0.5418 - val_loss: 0.7490 - val_accuracy: 0.5399 - val_auc_7: 0.6683\n",
      "Epoch 9/10\n",
      "32/32 [==============================] - 1s 29ms/step - loss: 0.6608 - accuracy: 0.6596 - auc_7: 0.5330 - val_loss: 1.4958 - val_accuracy: 0.5399 - val_auc_7: 0.6707\n",
      "Epoch 10/10\n",
      "32/32 [==============================] - 1s 31ms/step - loss: 0.7144 - accuracy: 0.6566 - auc_7: 0.5488 - val_loss: 0.7107 - val_accuracy: 0.5399 - val_auc_7: 0.6775\n",
      "16/16 [==============================] - 0s 6ms/step\n",
      "Accuracy: 0.5398773006134969\n",
      "AUC-ROC Score: 0.5\n",
      "Epoch 1/10\n",
      "24/24 [==============================] - 3s 42ms/step - loss: 11.0426 - accuracy: 0.5360 - auc_8: 0.5144 - val_loss: 0.7538 - val_accuracy: 0.4142 - val_auc_8: 0.4253\n",
      "Epoch 2/10\n",
      "24/24 [==============================] - 1s 30ms/step - loss: 5.8384 - accuracy: 0.5127 - auc_8: 0.4918 - val_loss: 2.1211 - val_accuracy: 0.7657 - val_auc_8: 0.5000\n",
      "Epoch 3/10\n",
      "24/24 [==============================] - 1s 34ms/step - loss: 1.3548 - accuracy: 0.5300 - auc_8: 0.5095 - val_loss: 0.5649 - val_accuracy: 0.7657 - val_auc_8: 0.5024\n",
      "Epoch 4/10\n",
      "24/24 [==============================] - 1s 33ms/step - loss: 0.7634 - accuracy: 0.5421 - auc_8: 0.5514 - val_loss: 0.8257 - val_accuracy: 0.2398 - val_auc_8: 0.5468\n",
      "Epoch 5/10\n",
      "24/24 [==============================] - 1s 31ms/step - loss: 0.7690 - accuracy: 0.5681 - auc_8: 0.5661 - val_loss: 1.2100 - val_accuracy: 0.2343 - val_auc_8: 0.5702\n",
      "Epoch 6/10\n",
      "24/24 [==============================] - 1s 33ms/step - loss: 1.0424 - accuracy: 0.5494 - auc_8: 0.5587 - val_loss: 0.5916 - val_accuracy: 0.7657 - val_auc_8: 0.5721\n",
      "Epoch 7/10\n",
      "24/24 [==============================] - 1s 29ms/step - loss: 0.7696 - accuracy: 0.5514 - auc_8: 0.5620 - val_loss: 0.5977 - val_accuracy: 0.7166 - val_auc_8: 0.5617\n",
      "Epoch 8/10\n",
      "24/24 [==============================] - 1s 30ms/step - loss: 0.7096 - accuracy: 0.5834 - auc_8: 0.5931 - val_loss: 0.5615 - val_accuracy: 0.7384 - val_auc_8: 0.5692\n",
      "Epoch 9/10\n",
      "24/24 [==============================] - 1s 34ms/step - loss: 0.6574 - accuracy: 0.6415 - auc_8: 0.6549 - val_loss: 1.6577 - val_accuracy: 0.2343 - val_auc_8: 0.5730\n",
      "Epoch 10/10\n",
      "24/24 [==============================] - 1s 29ms/step - loss: 0.9800 - accuracy: 0.5407 - auc_8: 0.5711 - val_loss: 0.9478 - val_accuracy: 0.7657 - val_auc_8: 0.5688\n",
      "12/12 [==============================] - 0s 6ms/step\n",
      "Accuracy: 0.7656675749318801\n",
      "AUC-ROC Score: 0.5\n",
      "Epoch 1/10\n",
      "34/34 [==============================] - 3s 36ms/step - loss: 2.7632 - accuracy: 0.6151 - auc_9: 0.4970 - val_loss: 1.8812 - val_accuracy: 0.7642 - val_auc_9: 0.5000\n",
      "Epoch 2/10\n",
      "34/34 [==============================] - 1s 29ms/step - loss: 0.8894 - accuracy: 0.6574 - auc_9: 0.5057 - val_loss: 0.9598 - val_accuracy: 0.2358 - val_auc_9: 0.6465\n",
      "Epoch 3/10\n",
      "34/34 [==============================] - 1s 27ms/step - loss: 0.8609 - accuracy: 0.6225 - auc_9: 0.4945 - val_loss: 0.5292 - val_accuracy: 0.7642 - val_auc_9: 0.6786\n",
      "Epoch 4/10\n",
      "34/34 [==============================] - 1s 27ms/step - loss: 0.7154 - accuracy: 0.6732 - auc_9: 0.5223 - val_loss: 0.6450 - val_accuracy: 0.7642 - val_auc_9: 0.6917\n",
      "Epoch 5/10\n",
      "34/34 [==============================] - 1s 28ms/step - loss: 0.6804 - accuracy: 0.6848 - auc_9: 0.5051 - val_loss: 0.6172 - val_accuracy: 0.7698 - val_auc_9: 0.7056\n",
      "Epoch 6/10\n",
      "34/34 [==============================] - 1s 27ms/step - loss: 0.6109 - accuracy: 0.7113 - auc_9: 0.5407 - val_loss: 0.6605 - val_accuracy: 0.7642 - val_auc_9: 0.7058\n",
      "Epoch 7/10\n",
      "34/34 [==============================] - 1s 29ms/step - loss: 0.6089 - accuracy: 0.7243 - auc_9: 0.5651 - val_loss: 0.5218 - val_accuracy: 0.7679 - val_auc_9: 0.7167\n",
      "Epoch 8/10\n",
      "34/34 [==============================] - 1s 30ms/step - loss: 0.5775 - accuracy: 0.7387 - auc_9: 0.5925 - val_loss: 0.7056 - val_accuracy: 0.5057 - val_auc_9: 0.7152\n",
      "Epoch 9/10\n",
      "34/34 [==============================] - 1s 29ms/step - loss: 0.6171 - accuracy: 0.6992 - auc_9: 0.5781 - val_loss: 0.5082 - val_accuracy: 0.7736 - val_auc_9: 0.7372\n",
      "Epoch 10/10\n",
      "34/34 [==============================] - 1s 31ms/step - loss: 0.5498 - accuracy: 0.7378 - auc_9: 0.6555 - val_loss: 0.5123 - val_accuracy: 0.7679 - val_auc_9: 0.7421\n",
      "17/17 [==============================] - 0s 6ms/step\n",
      "Accuracy: 0.7679245283018868\n",
      "AUC-ROC Score: 0.508\n",
      "Epoch 1/10\n",
      "30/30 [==============================] - 3s 43ms/step - loss: 6.6542 - accuracy: 0.6715 - auc_10: 0.4886 - val_loss: 1.0006 - val_accuracy: 0.6943 - val_auc_10: 0.3011\n",
      "Epoch 2/10\n",
      "30/30 [==============================] - 1s 31ms/step - loss: 1.4191 - accuracy: 0.7305 - auc_10: 0.4893 - val_loss: 1.0893 - val_accuracy: 0.3057 - val_auc_10: 0.4114\n",
      "Epoch 3/10\n",
      "30/30 [==============================] - 1s 30ms/step - loss: 0.7580 - accuracy: 0.7034 - auc_10: 0.5064 - val_loss: 0.8725 - val_accuracy: 0.6943 - val_auc_10: 0.5870\n",
      "Epoch 4/10\n",
      "30/30 [==============================] - 1s 27ms/step - loss: 0.6296 - accuracy: 0.7608 - auc_10: 0.5382 - val_loss: 0.8706 - val_accuracy: 0.6943 - val_auc_10: 0.6420\n",
      "Epoch 5/10\n",
      "30/30 [==============================] - 1s 28ms/step - loss: 0.5718 - accuracy: 0.7802 - auc_10: 0.5203 - val_loss: 0.6369 - val_accuracy: 0.6943 - val_auc_10: 0.6934\n",
      "Epoch 6/10\n",
      "30/30 [==============================] - 1s 27ms/step - loss: 0.5988 - accuracy: 0.7431 - auc_10: 0.5362 - val_loss: 1.0744 - val_accuracy: 0.6943 - val_auc_10: 0.6748\n",
      "Epoch 7/10\n",
      "30/30 [==============================] - 1s 27ms/step - loss: 0.6116 - accuracy: 0.7718 - auc_10: 0.5246 - val_loss: 0.6065 - val_accuracy: 0.6943 - val_auc_10: 0.7123\n",
      "Epoch 8/10\n",
      "30/30 [==============================] - 1s 28ms/step - loss: 0.5857 - accuracy: 0.7321 - auc_10: 0.5342 - val_loss: 0.7414 - val_accuracy: 0.6943 - val_auc_10: 0.7151\n",
      "Epoch 9/10\n",
      "30/30 [==============================] - 1s 29ms/step - loss: 0.5208 - accuracy: 0.8094 - auc_10: 0.5421 - val_loss: 0.6755 - val_accuracy: 0.6943 - val_auc_10: 0.7223\n",
      "Epoch 10/10\n",
      "30/30 [==============================] - 1s 28ms/step - loss: 0.5153 - accuracy: 0.8094 - auc_10: 0.5448 - val_loss: 0.8902 - val_accuracy: 0.6943 - val_auc_10: 0.6927\n",
      "15/15 [==============================] - 0s 6ms/step\n",
      "Accuracy: 0.6942675159235668\n",
      "AUC-ROC Score: 0.5\n",
      "Epoch 1/10\n",
      "18/18 [==============================] - 3s 52ms/step - loss: 8.9984 - accuracy: 0.5079 - auc_11: 0.4895 - val_loss: 3.8980 - val_accuracy: 0.5072 - val_auc_11: 0.5000\n",
      "Epoch 2/10\n",
      "18/18 [==============================] - 1s 35ms/step - loss: 4.0522 - accuracy: 0.5062 - auc_11: 0.4997 - val_loss: 3.8387 - val_accuracy: 0.4928 - val_auc_11: 0.5000\n",
      "Epoch 3/10\n",
      "18/18 [==============================] - 1s 35ms/step - loss: 1.6339 - accuracy: 0.5141 - auc_11: 0.5190 - val_loss: 1.2681 - val_accuracy: 0.4928 - val_auc_11: 0.5839\n",
      "Epoch 4/10\n",
      "18/18 [==============================] - 1s 32ms/step - loss: 0.8142 - accuracy: 0.5018 - auc_11: 0.4892 - val_loss: 1.4671 - val_accuracy: 0.5072 - val_auc_11: 0.5906\n",
      "Epoch 5/10\n",
      "18/18 [==============================] - 1s 34ms/step - loss: 0.9934 - accuracy: 0.5053 - auc_11: 0.5161 - val_loss: 1.0284 - val_accuracy: 0.4928 - val_auc_11: 0.6034\n",
      "Epoch 6/10\n",
      "18/18 [==============================] - 1s 31ms/step - loss: 0.9858 - accuracy: 0.5115 - auc_11: 0.5141 - val_loss: 1.0672 - val_accuracy: 0.4928 - val_auc_11: 0.6017\n",
      "Epoch 7/10\n",
      "18/18 [==============================] - 1s 32ms/step - loss: 0.7973 - accuracy: 0.5317 - auc_11: 0.5103 - val_loss: 0.8943 - val_accuracy: 0.4928 - val_auc_11: 0.6007\n",
      "Epoch 8/10\n",
      "18/18 [==============================] - 1s 30ms/step - loss: 0.9913 - accuracy: 0.5194 - auc_11: 0.4971 - val_loss: 0.8482 - val_accuracy: 0.5072 - val_auc_11: 0.5931\n",
      "Epoch 9/10\n",
      "18/18 [==============================] - 1s 33ms/step - loss: 0.9833 - accuracy: 0.5282 - auc_11: 0.5275 - val_loss: 1.1327 - val_accuracy: 0.5072 - val_auc_11: 0.5960\n",
      "Epoch 10/10\n",
      "18/18 [==============================] - 1s 32ms/step - loss: 0.9936 - accuracy: 0.5018 - auc_11: 0.4985 - val_loss: 0.8948 - val_accuracy: 0.5072 - val_auc_11: 0.5719\n",
      "9/9 [==============================] - 0s 6ms/step\n",
      "Accuracy: 0.5072463768115942\n",
      "AUC-ROC Score: 0.5\n",
      "Epoch 1/10\n",
      "13/13 [==============================] - 2s 61ms/step - loss: 13.7092 - accuracy: 0.5304 - auc_12: 0.5216 - val_loss: 0.3779 - val_accuracy: 0.8324 - val_auc_12: 0.0000e+00\n",
      "Epoch 2/10\n",
      "13/13 [==============================] - 1s 40ms/step - loss: 6.4818 - accuracy: 0.5175 - auc_12: 0.4933 - val_loss: 1.8651e-08 - val_accuracy: 1.0000 - val_auc_12: 0.0000e+00\n",
      "Epoch 3/10\n",
      "13/13 [==============================] - 0s 33ms/step - loss: 5.7855 - accuracy: 0.5162 - auc_12: 0.4981 - val_loss: 0.6683 - val_accuracy: 0.6108 - val_auc_12: 0.0000e+00\n",
      "Epoch 4/10\n",
      "13/13 [==============================] - 0s 32ms/step - loss: 2.7020 - accuracy: 0.5408 - auc_12: 0.5287 - val_loss: 5.3903 - val_accuracy: 0.0000e+00 - val_auc_12: 0.0000e+00\n",
      "Epoch 5/10\n",
      "13/13 [==============================] - 0s 30ms/step - loss: 2.9905 - accuracy: 0.5330 - auc_12: 0.5159 - val_loss: 2.9769 - val_accuracy: 0.0000e+00 - val_auc_12: 0.0000e+00\n",
      "Epoch 6/10\n",
      "13/13 [==============================] - 0s 30ms/step - loss: 1.3037 - accuracy: 0.5356 - auc_12: 0.5176 - val_loss: 8.2160 - val_accuracy: 0.0000e+00 - val_auc_12: 0.0000e+00\n",
      "Epoch 7/10\n",
      "13/13 [==============================] - 0s 30ms/step - loss: 1.9952 - accuracy: 0.5252 - auc_12: 0.5003 - val_loss: 2.7660 - val_accuracy: 0.0000e+00 - val_auc_12: 0.0000e+00\n",
      "Epoch 8/10\n",
      "13/13 [==============================] - 0s 30ms/step - loss: 1.5318 - accuracy: 0.5110 - auc_12: 0.4867 - val_loss: 7.8369 - val_accuracy: 0.0000e+00 - val_auc_12: 0.0000e+00\n",
      "Epoch 9/10\n",
      "13/13 [==============================] - 0s 34ms/step - loss: 1.9182 - accuracy: 0.5343 - auc_12: 0.5110 - val_loss: 6.8248e-04 - val_accuracy: 1.0000 - val_auc_12: 0.0000e+00\n",
      "Epoch 10/10\n",
      "13/13 [==============================] - 0s 30ms/step - loss: 3.6892 - accuracy: 0.4877 - auc_12: 0.5024 - val_loss: 4.7010 - val_accuracy: 0.0000e+00 - val_auc_12: 0.0000e+00\n",
      "6/6 [==============================] - 0s 6ms/step\n",
      "Accuracy: 0.0\n"
     ]
    },
    {
     "ename": "ValueError",
     "evalue": "Only one class present in y_true. ROC AUC score is not defined in that case.",
     "output_type": "error",
     "traceback": [
      "\u001b[1;31m---------------------------------------------------------------------------\u001b[0m",
      "\u001b[1;31mValueError\u001b[0m                                Traceback (most recent call last)",
      "Cell \u001b[1;32mIn[46], line 97\u001b[0m\n\u001b[0;32m     94\u001b[0m lista_accuracy\u001b[38;5;241m.\u001b[39mappend(accuracy)\n\u001b[0;32m     95\u001b[0m \u001b[38;5;28mprint\u001b[39m(\u001b[38;5;124mf\u001b[39m\u001b[38;5;124m'\u001b[39m\u001b[38;5;124mAccuracy: \u001b[39m\u001b[38;5;132;01m{\u001b[39;00maccuracy\u001b[38;5;132;01m}\u001b[39;00m\u001b[38;5;124m'\u001b[39m)\n\u001b[1;32m---> 97\u001b[0m roc_auc \u001b[38;5;241m=\u001b[39m roc_auc_score(y_test, y_pred)\n\u001b[0;32m     98\u001b[0m lista_roc_auc\u001b[38;5;241m.\u001b[39mappend(roc_auc)\n\u001b[0;32m     99\u001b[0m \u001b[38;5;28mprint\u001b[39m(\u001b[38;5;124mf\u001b[39m\u001b[38;5;124m'\u001b[39m\u001b[38;5;124mAUC-ROC Score: \u001b[39m\u001b[38;5;132;01m{\u001b[39;00mroc_auc\u001b[38;5;132;01m}\u001b[39;00m\u001b[38;5;124m'\u001b[39m)\n",
      "File \u001b[1;32mK:\\Anaconda\\Lib\\site-packages\\sklearn\\utils\\_param_validation.py:211\u001b[0m, in \u001b[0;36mvalidate_params.<locals>.decorator.<locals>.wrapper\u001b[1;34m(*args, **kwargs)\u001b[0m\n\u001b[0;32m    205\u001b[0m \u001b[38;5;28;01mtry\u001b[39;00m:\n\u001b[0;32m    206\u001b[0m     \u001b[38;5;28;01mwith\u001b[39;00m config_context(\n\u001b[0;32m    207\u001b[0m         skip_parameter_validation\u001b[38;5;241m=\u001b[39m(\n\u001b[0;32m    208\u001b[0m             prefer_skip_nested_validation \u001b[38;5;129;01mor\u001b[39;00m global_skip_validation\n\u001b[0;32m    209\u001b[0m         )\n\u001b[0;32m    210\u001b[0m     ):\n\u001b[1;32m--> 211\u001b[0m         \u001b[38;5;28;01mreturn\u001b[39;00m func(\u001b[38;5;241m*\u001b[39margs, \u001b[38;5;241m*\u001b[39m\u001b[38;5;241m*\u001b[39mkwargs)\n\u001b[0;32m    212\u001b[0m \u001b[38;5;28;01mexcept\u001b[39;00m InvalidParameterError \u001b[38;5;28;01mas\u001b[39;00m e:\n\u001b[0;32m    213\u001b[0m     \u001b[38;5;66;03m# When the function is just a wrapper around an estimator, we allow\u001b[39;00m\n\u001b[0;32m    214\u001b[0m     \u001b[38;5;66;03m# the function to delegate validation to the estimator, but we replace\u001b[39;00m\n\u001b[0;32m    215\u001b[0m     \u001b[38;5;66;03m# the name of the estimator by the name of the function in the error\u001b[39;00m\n\u001b[0;32m    216\u001b[0m     \u001b[38;5;66;03m# message to avoid confusion.\u001b[39;00m\n\u001b[0;32m    217\u001b[0m     msg \u001b[38;5;241m=\u001b[39m re\u001b[38;5;241m.\u001b[39msub(\n\u001b[0;32m    218\u001b[0m         \u001b[38;5;124mr\u001b[39m\u001b[38;5;124m\"\u001b[39m\u001b[38;5;124mparameter of \u001b[39m\u001b[38;5;124m\\\u001b[39m\u001b[38;5;124mw+ must be\u001b[39m\u001b[38;5;124m\"\u001b[39m,\n\u001b[0;32m    219\u001b[0m         \u001b[38;5;124mf\u001b[39m\u001b[38;5;124m\"\u001b[39m\u001b[38;5;124mparameter of \u001b[39m\u001b[38;5;132;01m{\u001b[39;00mfunc\u001b[38;5;241m.\u001b[39m\u001b[38;5;18m__qualname__\u001b[39m\u001b[38;5;132;01m}\u001b[39;00m\u001b[38;5;124m must be\u001b[39m\u001b[38;5;124m\"\u001b[39m,\n\u001b[0;32m    220\u001b[0m         \u001b[38;5;28mstr\u001b[39m(e),\n\u001b[0;32m    221\u001b[0m     )\n",
      "File \u001b[1;32mK:\\Anaconda\\Lib\\site-packages\\sklearn\\metrics\\_ranking.py:626\u001b[0m, in \u001b[0;36mroc_auc_score\u001b[1;34m(y_true, y_score, average, sample_weight, max_fpr, multi_class, labels)\u001b[0m\n\u001b[0;32m    624\u001b[0m     labels \u001b[38;5;241m=\u001b[39m np\u001b[38;5;241m.\u001b[39munique(y_true)\n\u001b[0;32m    625\u001b[0m     y_true \u001b[38;5;241m=\u001b[39m label_binarize(y_true, classes\u001b[38;5;241m=\u001b[39mlabels)[:, \u001b[38;5;241m0\u001b[39m]\n\u001b[1;32m--> 626\u001b[0m     \u001b[38;5;28;01mreturn\u001b[39;00m _average_binary_score(\n\u001b[0;32m    627\u001b[0m         partial(_binary_roc_auc_score, max_fpr\u001b[38;5;241m=\u001b[39mmax_fpr),\n\u001b[0;32m    628\u001b[0m         y_true,\n\u001b[0;32m    629\u001b[0m         y_score,\n\u001b[0;32m    630\u001b[0m         average,\n\u001b[0;32m    631\u001b[0m         sample_weight\u001b[38;5;241m=\u001b[39msample_weight,\n\u001b[0;32m    632\u001b[0m     )\n\u001b[0;32m    633\u001b[0m \u001b[38;5;28;01melse\u001b[39;00m:  \u001b[38;5;66;03m# multilabel-indicator\u001b[39;00m\n\u001b[0;32m    634\u001b[0m     \u001b[38;5;28;01mreturn\u001b[39;00m _average_binary_score(\n\u001b[0;32m    635\u001b[0m         partial(_binary_roc_auc_score, max_fpr\u001b[38;5;241m=\u001b[39mmax_fpr),\n\u001b[0;32m    636\u001b[0m         y_true,\n\u001b[1;32m   (...)\u001b[0m\n\u001b[0;32m    639\u001b[0m         sample_weight\u001b[38;5;241m=\u001b[39msample_weight,\n\u001b[0;32m    640\u001b[0m     )\n",
      "File \u001b[1;32mK:\\Anaconda\\Lib\\site-packages\\sklearn\\metrics\\_base.py:75\u001b[0m, in \u001b[0;36m_average_binary_score\u001b[1;34m(binary_metric, y_true, y_score, average, sample_weight)\u001b[0m\n\u001b[0;32m     72\u001b[0m     \u001b[38;5;28;01mraise\u001b[39;00m \u001b[38;5;167;01mValueError\u001b[39;00m(\u001b[38;5;124m\"\u001b[39m\u001b[38;5;132;01m{0}\u001b[39;00m\u001b[38;5;124m format is not supported\u001b[39m\u001b[38;5;124m\"\u001b[39m\u001b[38;5;241m.\u001b[39mformat(y_type))\n\u001b[0;32m     74\u001b[0m \u001b[38;5;28;01mif\u001b[39;00m y_type \u001b[38;5;241m==\u001b[39m \u001b[38;5;124m\"\u001b[39m\u001b[38;5;124mbinary\u001b[39m\u001b[38;5;124m\"\u001b[39m:\n\u001b[1;32m---> 75\u001b[0m     \u001b[38;5;28;01mreturn\u001b[39;00m binary_metric(y_true, y_score, sample_weight\u001b[38;5;241m=\u001b[39msample_weight)\n\u001b[0;32m     77\u001b[0m check_consistent_length(y_true, y_score, sample_weight)\n\u001b[0;32m     78\u001b[0m y_true \u001b[38;5;241m=\u001b[39m check_array(y_true)\n",
      "File \u001b[1;32mK:\\Anaconda\\Lib\\site-packages\\sklearn\\metrics\\_ranking.py:381\u001b[0m, in \u001b[0;36m_binary_roc_auc_score\u001b[1;34m(y_true, y_score, sample_weight, max_fpr)\u001b[0m\n\u001b[0;32m    379\u001b[0m \u001b[38;5;250m\u001b[39m\u001b[38;5;124;03m\"\"\"Binary roc auc score.\"\"\"\u001b[39;00m\n\u001b[0;32m    380\u001b[0m \u001b[38;5;28;01mif\u001b[39;00m \u001b[38;5;28mlen\u001b[39m(np\u001b[38;5;241m.\u001b[39munique(y_true)) \u001b[38;5;241m!=\u001b[39m \u001b[38;5;241m2\u001b[39m:\n\u001b[1;32m--> 381\u001b[0m     \u001b[38;5;28;01mraise\u001b[39;00m \u001b[38;5;167;01mValueError\u001b[39;00m(\n\u001b[0;32m    382\u001b[0m         \u001b[38;5;124m\"\u001b[39m\u001b[38;5;124mOnly one class present in y_true. ROC AUC score \u001b[39m\u001b[38;5;124m\"\u001b[39m\n\u001b[0;32m    383\u001b[0m         \u001b[38;5;124m\"\u001b[39m\u001b[38;5;124mis not defined in that case.\u001b[39m\u001b[38;5;124m\"\u001b[39m\n\u001b[0;32m    384\u001b[0m     )\n\u001b[0;32m    386\u001b[0m fpr, tpr, _ \u001b[38;5;241m=\u001b[39m roc_curve(y_true, y_score, sample_weight\u001b[38;5;241m=\u001b[39msample_weight)\n\u001b[0;32m    387\u001b[0m \u001b[38;5;28;01mif\u001b[39;00m max_fpr \u001b[38;5;129;01mis\u001b[39;00m \u001b[38;5;28;01mNone\u001b[39;00m \u001b[38;5;129;01mor\u001b[39;00m max_fpr \u001b[38;5;241m==\u001b[39m \u001b[38;5;241m1\u001b[39m:\n",
      "\u001b[1;31mValueError\u001b[0m: Only one class present in y_true. ROC AUC score is not defined in that case."
     ]
    }
   ],
   "source": [
    "lista_accuracy = []\n",
    "lista_roc_auc = []\n",
    "lista_history = []\n",
    "lista_ciudad = []\n",
    "for ciudad in df_sorted[\"Location\"].unique():\n",
    "    \n",
    "    df_sorted_ciudad = df_sorted[df_sorted[\"Location\"] == ciudad]\n",
    "    \n",
    "    if len(df_sorted_ciudad[\"RainTomorrow\"].unique().tolist()) == 1:\n",
    "        \n",
    "        pass\n",
    "    \n",
    "    else:\n",
    "        \n",
    "        lista_ciudad.append(ciudad)\n",
    "        #creamos el df_predicciones sobre el que vamos a trabajar\n",
    "        df_prediccion = df_sorted_ciudad.select_dtypes(include=['float64', 'int64'])\n",
    "\n",
    "        #creamos el np.array de train con el 80% de los datos\n",
    "        train = np.array(df_prediccion[0:int(len(df_prediccion)*0.8)])\n",
    "\n",
    "        #trabajamos con un lag de 10 dias por fecha\n",
    "        T = 10 # Segmentos\n",
    "        X_train = list()\n",
    "        y_train = list()\n",
    "\n",
    "        for t in range(len(train) - T):\n",
    "\n",
    "\n",
    "            # Toma valores de X_test de t en t con stride de 1\n",
    "            x_train = train[t : t + T][:-1]\n",
    "            X_train.append(x_train)\n",
    "\n",
    "            # Toma los valores de t en t\n",
    "            y_train_ = train[t + T][-1]\n",
    "            y_train.append(int(y_train_))\n",
    "\n",
    "        # Transformamos a np.array y ajustamos las dimensiones\n",
    "        # Para entrar en el modelo debe de tener 3 dimensiones\n",
    "        X_train = np.array(X_train)\n",
    "        y_train = np.array(y_train)\n",
    "\n",
    "\n",
    "\n",
    "        #creamos el np.array de test con el 20% de los datos\n",
    "        test = np.array(df_prediccion[int(len(df_prediccion)*0.8):-1])\n",
    "        X_test = list()\n",
    "        y_test = list()\n",
    "\n",
    "        #trabajamos con un lag de 10 dias por fecha\n",
    "        for t in range(len(test) - T):\n",
    "\n",
    "            # Toma valores de X_test de t en t con stride de 1\n",
    "            x_test = test[t : t + T][:-1]\n",
    "            X_test.append(x_test)\n",
    "\n",
    "            # Toma los valores de t en t\n",
    "            y_test_ = test[t + T][-1]\n",
    "            y_test.append(int(y_test_))\n",
    "\n",
    "        # Transformamos a np.array y ajustamos las dimensiones\n",
    "        # Para entrar en el modelo debe de tener 3 dimensiones\n",
    "        X_test = np.array(X_test)\n",
    "        y_test = np.array(y_test)\n",
    "\n",
    "\n",
    "\n",
    "        #creamos un modelo modelo LSTM para predecir la lluvia, con diferentes capas densas y que medirá el accurazy y roc-auc\n",
    "        model = Sequential()\n",
    "\n",
    "        model.add(Input(shape=(X_train.shape[1], X_train.shape[2])))\n",
    "        model.add(LSTM(units=512, activation=\"relu\"))\n",
    "        model.add(Dense(units=256, activation=\"relu\"))\n",
    "        model.add(Dense(units=128, activation=\"relu\"))\n",
    "        model.add(Dense(units=64, activation=\"relu\"))\n",
    "        model.add(Dense(units=32, activation=\"relu\"))\n",
    "        model.add(Dense(units=1, activation=\"sigmoid\")) \n",
    "\n",
    "        model.compile(optimizer=\"adam\", loss=\"binary_crossentropy\", metrics=[\"accuracy\", AUC()])\n",
    "\n",
    "        history = model.fit(X_train, y_train, epochs=10, batch_size=64, validation_data=(X_test, y_test), )\n",
    "\n",
    "        lista_history.append(history)\n",
    "\n",
    "\n",
    "        y_pred_decimal = model.predict(X_test)\n",
    "\n",
    "\n",
    "        threshold = 0.5\n",
    "        y_pred = (y_pred_decimal > threshold).astype(int)\n",
    "\n",
    "\n",
    "        accuracy = accuracy_score(y_test, y_pred)\n",
    "        lista_accuracy.append(accuracy)\n",
    "        print(f'Accuracy: {accuracy}')\n",
    "\n",
    "        roc_auc = roc_auc_score(y_test, y_pred)\n",
    "        lista_roc_auc.append(roc_auc)\n",
    "        print(f'AUC-ROC Score: {roc_auc}')"
   ]
  },
  {
   "cell_type": "code",
   "execution_count": 68,
   "id": "9a78f2b0-c327-46c3-878d-5190d5ca2568",
   "metadata": {
    "tags": []
   },
   "outputs": [],
   "source": [
    "#Se debe eliminar el ultimo elemento ya que tiene no accuracy y por lo tanto tampoco roc auc."
   ]
  },
  {
   "cell_type": "code",
   "execution_count": 65,
   "id": "8f44ad5b-d6c4-493c-b938-afe30fdbf517",
   "metadata": {
    "tags": []
   },
   "outputs": [
    {
     "data": {
      "text/plain": [
       "0.0"
      ]
     },
     "execution_count": 65,
     "metadata": {},
     "output_type": "execute_result"
    }
   ],
   "source": [
    "lista_accuracy.pop(),lista_ciudad.pop(),lista_history.pop()"
   ]
  },
  {
   "cell_type": "code",
   "execution_count": 66,
   "id": "2e6ebfaa-392a-493c-bc44-7f8d09f49495",
   "metadata": {
    "tags": []
   },
   "outputs": [],
   "source": [
    "df_prediccion_ciudades = pd.DataFrame({\"Ciudad\":lista_ciudad, \"Accuracy\":lista_accuracy,\"Roc_auc\":lista_roc_auc,\"history\":lista_history})"
   ]
  },
  {
   "cell_type": "code",
   "execution_count": 67,
   "id": "93677a5f-bae1-4de5-86c4-5d9b43f94fb4",
   "metadata": {
    "tags": []
   },
   "outputs": [
    {
     "data": {
      "text/html": [
       "<div>\n",
       "<style scoped>\n",
       "    .dataframe tbody tr th:only-of-type {\n",
       "        vertical-align: middle;\n",
       "    }\n",
       "\n",
       "    .dataframe tbody tr th {\n",
       "        vertical-align: top;\n",
       "    }\n",
       "\n",
       "    .dataframe thead th {\n",
       "        text-align: right;\n",
       "    }\n",
       "</style>\n",
       "<table border=\"1\" class=\"dataframe\">\n",
       "  <thead>\n",
       "    <tr style=\"text-align: right;\">\n",
       "      <th></th>\n",
       "      <th>Ciudad</th>\n",
       "      <th>Accuracy</th>\n",
       "      <th>Roc_auc</th>\n",
       "      <th>history</th>\n",
       "    </tr>\n",
       "  </thead>\n",
       "  <tbody>\n",
       "    <tr>\n",
       "      <th>0</th>\n",
       "      <td>CoffsHarbour</td>\n",
       "      <td>0.251553</td>\n",
       "      <td>0.503779</td>\n",
       "      <td>&lt;keras.src.callbacks.History object at 0x00000...</td>\n",
       "    </tr>\n",
       "    <tr>\n",
       "      <th>1</th>\n",
       "      <td>Moree</td>\n",
       "      <td>0.678191</td>\n",
       "      <td>0.500000</td>\n",
       "      <td>&lt;keras.src.callbacks.History object at 0x00000...</td>\n",
       "    </tr>\n",
       "    <tr>\n",
       "      <th>2</th>\n",
       "      <td>NorfolkIsland</td>\n",
       "      <td>0.539877</td>\n",
       "      <td>0.500000</td>\n",
       "      <td>&lt;keras.src.callbacks.History object at 0x00000...</td>\n",
       "    </tr>\n",
       "    <tr>\n",
       "      <th>3</th>\n",
       "      <td>Sydney</td>\n",
       "      <td>0.765668</td>\n",
       "      <td>0.500000</td>\n",
       "      <td>&lt;keras.src.callbacks.History object at 0x00000...</td>\n",
       "    </tr>\n",
       "    <tr>\n",
       "      <th>4</th>\n",
       "      <td>SydneyAirport</td>\n",
       "      <td>0.767925</td>\n",
       "      <td>0.508000</td>\n",
       "      <td>&lt;keras.src.callbacks.History object at 0x00000...</td>\n",
       "    </tr>\n",
       "    <tr>\n",
       "      <th>5</th>\n",
       "      <td>WaggaWagga</td>\n",
       "      <td>0.694268</td>\n",
       "      <td>0.500000</td>\n",
       "      <td>&lt;keras.src.callbacks.History object at 0x00000...</td>\n",
       "    </tr>\n",
       "    <tr>\n",
       "      <th>6</th>\n",
       "      <td>Williamtown</td>\n",
       "      <td>0.507246</td>\n",
       "      <td>0.500000</td>\n",
       "      <td>&lt;keras.src.callbacks.History object at 0x00000...</td>\n",
       "    </tr>\n",
       "  </tbody>\n",
       "</table>\n",
       "</div>"
      ],
      "text/plain": [
       "          Ciudad  Accuracy   Roc_auc  \\\n",
       "0   CoffsHarbour  0.251553  0.503779   \n",
       "1          Moree  0.678191  0.500000   \n",
       "2  NorfolkIsland  0.539877  0.500000   \n",
       "3         Sydney  0.765668  0.500000   \n",
       "4  SydneyAirport  0.767925  0.508000   \n",
       "5     WaggaWagga  0.694268  0.500000   \n",
       "6    Williamtown  0.507246  0.500000   \n",
       "\n",
       "                                             history  \n",
       "0  <keras.src.callbacks.History object at 0x00000...  \n",
       "1  <keras.src.callbacks.History object at 0x00000...  \n",
       "2  <keras.src.callbacks.History object at 0x00000...  \n",
       "3  <keras.src.callbacks.History object at 0x00000...  \n",
       "4  <keras.src.callbacks.History object at 0x00000...  \n",
       "5  <keras.src.callbacks.History object at 0x00000...  \n",
       "6  <keras.src.callbacks.History object at 0x00000...  "
      ]
     },
     "execution_count": 67,
     "metadata": {},
     "output_type": "execute_result"
    }
   ],
   "source": [
    "df_prediccion_ciudades"
   ]
  }
 ],
 "metadata": {
  "kernelspec": {
   "display_name": "Python 3 (ipykernel)",
   "language": "python",
   "name": "python3"
  },
  "language_info": {
   "codemirror_mode": {
    "name": "ipython",
    "version": 3
   },
   "file_extension": ".py",
   "mimetype": "text/x-python",
   "name": "python",
   "nbconvert_exporter": "python",
   "pygments_lexer": "ipython3",
   "version": "3.11.4"
  }
 },
 "nbformat": 4,
 "nbformat_minor": 5
}
